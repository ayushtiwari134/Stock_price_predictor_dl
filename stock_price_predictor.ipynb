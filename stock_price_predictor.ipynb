{
 "cells": [
  {
   "cell_type": "code",
   "execution_count": 1,
   "id": "0e5723ff",
   "metadata": {},
   "outputs": [],
   "source": [
    "# Required libraries :\n",
    "# tensorflow\n",
    "# yfinance\n",
    "# matplotlib\n",
    "# pandas\n",
    "# numpy"
   ]
  },
  {
   "cell_type": "markdown",
   "id": "17edde9b",
   "metadata": {},
   "source": [
    "Install all the above mentioned libraries using <b>'pip'</b>. <br>\n",
    "For example to install <b>yfinance</b>, run : `pip install yfinance`    "
   ]
  },
  {
   "cell_type": "markdown",
   "id": "f302be5b",
   "metadata": {},
   "source": [
    "### Imports"
   ]
  },
  {
   "cell_type": "code",
   "execution_count": 2,
   "id": "ff5f48c7",
   "metadata": {},
   "outputs": [],
   "source": [
    "import numpy as np\n",
    "import pandas as pd\n",
    "import matplotlib.pyplot as plt\n",
    "import yfinance as yf\n",
    "from keras.layers import Dense, Dropout, LSTM\n",
    "from keras.models import Sequential\n",
    "from sklearn.preprocessing import MinMaxScaler"
   ]
  },
  {
   "cell_type": "markdown",
   "id": "c61288b7",
   "metadata": {},
   "source": [
    "### Deciding two things:\n",
    "1. the <b>dates</b> over which we want to collect the data\n",
    "2. the <b>stock symbol</b> for which we want to train the model"
   ]
  },
  {
   "cell_type": "code",
   "execution_count": 3,
   "id": "d48757d2",
   "metadata": {},
   "outputs": [],
   "source": [
    "# we chose the 'ITC' stock over the NSE market over a period of 10 years\n",
    "start = '2012-01-01'\n",
    "end = '2022-12-21'\n",
    "stock = 'ITC.NS' "
   ]
  },
  {
   "cell_type": "code",
   "execution_count": 4,
   "id": "5fcdab67",
   "metadata": {},
   "outputs": [
    {
     "name": "stdout",
     "output_type": "stream",
     "text": [
      "[*********************100%%**********************]  1 of 1 completed\n"
     ]
    }
   ],
   "source": [
    "#downloading the data\n",
    "data = yf.download(stock,start,end)"
   ]
  },
  {
   "cell_type": "markdown",
   "id": "50e564c1",
   "metadata": {},
   "source": [
    "### EDA"
   ]
  },
  {
   "cell_type": "code",
   "execution_count": 5,
   "id": "4808f187",
   "metadata": {
    "scrolled": false
   },
   "outputs": [
    {
     "data": {
      "text/html": [
       "<div>\n",
       "<style scoped>\n",
       "    .dataframe tbody tr th:only-of-type {\n",
       "        vertical-align: middle;\n",
       "    }\n",
       "\n",
       "    .dataframe tbody tr th {\n",
       "        vertical-align: top;\n",
       "    }\n",
       "\n",
       "    .dataframe thead th {\n",
       "        text-align: right;\n",
       "    }\n",
       "</style>\n",
       "<table border=\"1\" class=\"dataframe\">\n",
       "  <thead>\n",
       "    <tr style=\"text-align: right;\">\n",
       "      <th></th>\n",
       "      <th>Open</th>\n",
       "      <th>High</th>\n",
       "      <th>Low</th>\n",
       "      <th>Close</th>\n",
       "      <th>Adj Close</th>\n",
       "      <th>Volume</th>\n",
       "    </tr>\n",
       "    <tr>\n",
       "      <th>Date</th>\n",
       "      <th></th>\n",
       "      <th></th>\n",
       "      <th></th>\n",
       "      <th></th>\n",
       "      <th></th>\n",
       "      <th></th>\n",
       "    </tr>\n",
       "  </thead>\n",
       "  <tbody>\n",
       "    <tr>\n",
       "      <th>2012-08-31</th>\n",
       "      <td>180.000000</td>\n",
       "      <td>180.333328</td>\n",
       "      <td>177.533340</td>\n",
       "      <td>178.433334</td>\n",
       "      <td>134.856400</td>\n",
       "      <td>7843771</td>\n",
       "    </tr>\n",
       "    <tr>\n",
       "      <th>2016-12-28</th>\n",
       "      <td>232.699997</td>\n",
       "      <td>236.399994</td>\n",
       "      <td>232.699997</td>\n",
       "      <td>235.449997</td>\n",
       "      <td>188.631775</td>\n",
       "      <td>14166131</td>\n",
       "    </tr>\n",
       "    <tr>\n",
       "      <th>2014-12-05</th>\n",
       "      <td>255.333328</td>\n",
       "      <td>261.333344</td>\n",
       "      <td>255.100006</td>\n",
       "      <td>260.899994</td>\n",
       "      <td>203.780807</td>\n",
       "      <td>16281654</td>\n",
       "    </tr>\n",
       "    <tr>\n",
       "      <th>2012-11-21</th>\n",
       "      <td>187.033340</td>\n",
       "      <td>191.500000</td>\n",
       "      <td>185.733337</td>\n",
       "      <td>190.733337</td>\n",
       "      <td>144.152481</td>\n",
       "      <td>8277627</td>\n",
       "    </tr>\n",
       "    <tr>\n",
       "      <th>2013-04-03</th>\n",
       "      <td>204.633331</td>\n",
       "      <td>206.266663</td>\n",
       "      <td>202.899994</td>\n",
       "      <td>205.066666</td>\n",
       "      <td>154.985336</td>\n",
       "      <td>7238014</td>\n",
       "    </tr>\n",
       "    <tr>\n",
       "      <th>2013-07-19</th>\n",
       "      <td>245.666672</td>\n",
       "      <td>247.933334</td>\n",
       "      <td>243.466660</td>\n",
       "      <td>246.033340</td>\n",
       "      <td>188.743927</td>\n",
       "      <td>8103916</td>\n",
       "    </tr>\n",
       "    <tr>\n",
       "      <th>2016-12-07</th>\n",
       "      <td>231.500000</td>\n",
       "      <td>231.500000</td>\n",
       "      <td>226.500000</td>\n",
       "      <td>227.199997</td>\n",
       "      <td>182.022278</td>\n",
       "      <td>8107530</td>\n",
       "    </tr>\n",
       "    <tr>\n",
       "      <th>2022-03-02</th>\n",
       "      <td>214.399994</td>\n",
       "      <td>216.600006</td>\n",
       "      <td>212.449997</td>\n",
       "      <td>215.300003</td>\n",
       "      <td>205.831284</td>\n",
       "      <td>19295994</td>\n",
       "    </tr>\n",
       "    <tr>\n",
       "      <th>2013-09-10</th>\n",
       "      <td>213.333328</td>\n",
       "      <td>225.600006</td>\n",
       "      <td>212.666672</td>\n",
       "      <td>223.933334</td>\n",
       "      <td>171.789978</td>\n",
       "      <td>18161731</td>\n",
       "    </tr>\n",
       "    <tr>\n",
       "      <th>2020-08-19</th>\n",
       "      <td>198.600006</td>\n",
       "      <td>201.699997</td>\n",
       "      <td>198.100006</td>\n",
       "      <td>198.449997</td>\n",
       "      <td>176.242310</td>\n",
       "      <td>15474353</td>\n",
       "    </tr>\n",
       "  </tbody>\n",
       "</table>\n",
       "</div>"
      ],
      "text/plain": [
       "                  Open        High         Low       Close   Adj Close  \\\n",
       "Date                                                                     \n",
       "2012-08-31  180.000000  180.333328  177.533340  178.433334  134.856400   \n",
       "2016-12-28  232.699997  236.399994  232.699997  235.449997  188.631775   \n",
       "2014-12-05  255.333328  261.333344  255.100006  260.899994  203.780807   \n",
       "2012-11-21  187.033340  191.500000  185.733337  190.733337  144.152481   \n",
       "2013-04-03  204.633331  206.266663  202.899994  205.066666  154.985336   \n",
       "2013-07-19  245.666672  247.933334  243.466660  246.033340  188.743927   \n",
       "2016-12-07  231.500000  231.500000  226.500000  227.199997  182.022278   \n",
       "2022-03-02  214.399994  216.600006  212.449997  215.300003  205.831284   \n",
       "2013-09-10  213.333328  225.600006  212.666672  223.933334  171.789978   \n",
       "2020-08-19  198.600006  201.699997  198.100006  198.449997  176.242310   \n",
       "\n",
       "              Volume  \n",
       "Date                  \n",
       "2012-08-31   7843771  \n",
       "2016-12-28  14166131  \n",
       "2014-12-05  16281654  \n",
       "2012-11-21   8277627  \n",
       "2013-04-03   7238014  \n",
       "2013-07-19   8103916  \n",
       "2016-12-07   8107530  \n",
       "2022-03-02  19295994  \n",
       "2013-09-10  18161731  \n",
       "2020-08-19  15474353  "
      ]
     },
     "execution_count": 5,
     "metadata": {},
     "output_type": "execute_result"
    }
   ],
   "source": [
    "# create a new pandas dataframe using the data received from yfinance\n",
    "prices = pd.DataFrame(data)\n",
    "prices.sample(10)"
   ]
  },
  {
   "cell_type": "code",
   "execution_count": 6,
   "id": "d83664c1",
   "metadata": {},
   "outputs": [
    {
     "data": {
      "text/plain": [
       "Open         0\n",
       "High         0\n",
       "Low          0\n",
       "Close        0\n",
       "Adj Close    0\n",
       "Volume       0\n",
       "dtype: int64"
      ]
     },
     "execution_count": 6,
     "metadata": {},
     "output_type": "execute_result"
    }
   ],
   "source": [
    "#checking null values\n",
    "prices.isnull().sum()"
   ]
  },
  {
   "cell_type": "code",
   "execution_count": 7,
   "id": "43af5cff",
   "metadata": {},
   "outputs": [
    {
     "data": {
      "text/plain": [
       "(2705, 6)"
      ]
     },
     "execution_count": 7,
     "metadata": {},
     "output_type": "execute_result"
    }
   ],
   "source": [
    "prices.shape"
   ]
  },
  {
   "cell_type": "code",
   "execution_count": 8,
   "id": "637f8013",
   "metadata": {},
   "outputs": [],
   "source": [
    "#add a new row to indicate the indeces\n",
    "prices.reset_index(inplace=True)"
   ]
  },
  {
   "cell_type": "code",
   "execution_count": 9,
   "id": "937961a9",
   "metadata": {
    "scrolled": true
   },
   "outputs": [
    {
     "data": {
      "text/html": [
       "<div>\n",
       "<style scoped>\n",
       "    .dataframe tbody tr th:only-of-type {\n",
       "        vertical-align: middle;\n",
       "    }\n",
       "\n",
       "    .dataframe tbody tr th {\n",
       "        vertical-align: top;\n",
       "    }\n",
       "\n",
       "    .dataframe thead th {\n",
       "        text-align: right;\n",
       "    }\n",
       "</style>\n",
       "<table border=\"1\" class=\"dataframe\">\n",
       "  <thead>\n",
       "    <tr style=\"text-align: right;\">\n",
       "      <th></th>\n",
       "      <th>Date</th>\n",
       "      <th>Open</th>\n",
       "      <th>High</th>\n",
       "      <th>Low</th>\n",
       "      <th>Close</th>\n",
       "      <th>Adj Close</th>\n",
       "      <th>Volume</th>\n",
       "    </tr>\n",
       "  </thead>\n",
       "  <tbody>\n",
       "    <tr>\n",
       "      <th>1447</th>\n",
       "      <td>2017-11-17</td>\n",
       "      <td>256.500000</td>\n",
       "      <td>259.000000</td>\n",
       "      <td>256.000000</td>\n",
       "      <td>258.000000</td>\n",
       "      <td>209.820160</td>\n",
       "      <td>9998498</td>\n",
       "    </tr>\n",
       "    <tr>\n",
       "      <th>1894</th>\n",
       "      <td>2019-09-16</td>\n",
       "      <td>239.500000</td>\n",
       "      <td>240.850006</td>\n",
       "      <td>238.300003</td>\n",
       "      <td>239.399994</td>\n",
       "      <td>202.212296</td>\n",
       "      <td>7084644</td>\n",
       "    </tr>\n",
       "    <tr>\n",
       "      <th>1166</th>\n",
       "      <td>2016-09-29</td>\n",
       "      <td>248.100006</td>\n",
       "      <td>249.300003</td>\n",
       "      <td>241.000000</td>\n",
       "      <td>245.699997</td>\n",
       "      <td>196.843628</td>\n",
       "      <td>17433461</td>\n",
       "    </tr>\n",
       "    <tr>\n",
       "      <th>1547</th>\n",
       "      <td>2018-04-16</td>\n",
       "      <td>260.500000</td>\n",
       "      <td>264.899994</td>\n",
       "      <td>260.000000</td>\n",
       "      <td>264.450012</td>\n",
       "      <td>215.065704</td>\n",
       "      <td>5212182</td>\n",
       "    </tr>\n",
       "    <tr>\n",
       "      <th>944</th>\n",
       "      <td>2015-11-03</td>\n",
       "      <td>224.533340</td>\n",
       "      <td>225.933334</td>\n",
       "      <td>221.866669</td>\n",
       "      <td>223.233337</td>\n",
       "      <td>177.848862</td>\n",
       "      <td>3911080</td>\n",
       "    </tr>\n",
       "    <tr>\n",
       "      <th>1574</th>\n",
       "      <td>2018-05-24</td>\n",
       "      <td>274.000000</td>\n",
       "      <td>276.799988</td>\n",
       "      <td>271.750000</td>\n",
       "      <td>274.850006</td>\n",
       "      <td>223.523514</td>\n",
       "      <td>6282351</td>\n",
       "    </tr>\n",
       "    <tr>\n",
       "      <th>874</th>\n",
       "      <td>2015-07-22</td>\n",
       "      <td>208.066666</td>\n",
       "      <td>211.966660</td>\n",
       "      <td>207.133331</td>\n",
       "      <td>209.666672</td>\n",
       "      <td>167.040375</td>\n",
       "      <td>7761358</td>\n",
       "    </tr>\n",
       "    <tr>\n",
       "      <th>1216</th>\n",
       "      <td>2016-12-14</td>\n",
       "      <td>236.000000</td>\n",
       "      <td>236.500000</td>\n",
       "      <td>232.000000</td>\n",
       "      <td>233.149994</td>\n",
       "      <td>186.789154</td>\n",
       "      <td>6313305</td>\n",
       "    </tr>\n",
       "    <tr>\n",
       "      <th>282</th>\n",
       "      <td>2013-02-21</td>\n",
       "      <td>199.666672</td>\n",
       "      <td>200.333328</td>\n",
       "      <td>196.500000</td>\n",
       "      <td>197.733337</td>\n",
       "      <td>149.442963</td>\n",
       "      <td>15478765</td>\n",
       "    </tr>\n",
       "    <tr>\n",
       "      <th>1285</th>\n",
       "      <td>2017-03-24</td>\n",
       "      <td>278.850006</td>\n",
       "      <td>283.000000</td>\n",
       "      <td>278.750000</td>\n",
       "      <td>281.000000</td>\n",
       "      <td>225.124405</td>\n",
       "      <td>7123953</td>\n",
       "    </tr>\n",
       "  </tbody>\n",
       "</table>\n",
       "</div>"
      ],
      "text/plain": [
       "           Date        Open        High         Low       Close   Adj Close  \\\n",
       "1447 2017-11-17  256.500000  259.000000  256.000000  258.000000  209.820160   \n",
       "1894 2019-09-16  239.500000  240.850006  238.300003  239.399994  202.212296   \n",
       "1166 2016-09-29  248.100006  249.300003  241.000000  245.699997  196.843628   \n",
       "1547 2018-04-16  260.500000  264.899994  260.000000  264.450012  215.065704   \n",
       "944  2015-11-03  224.533340  225.933334  221.866669  223.233337  177.848862   \n",
       "1574 2018-05-24  274.000000  276.799988  271.750000  274.850006  223.523514   \n",
       "874  2015-07-22  208.066666  211.966660  207.133331  209.666672  167.040375   \n",
       "1216 2016-12-14  236.000000  236.500000  232.000000  233.149994  186.789154   \n",
       "282  2013-02-21  199.666672  200.333328  196.500000  197.733337  149.442963   \n",
       "1285 2017-03-24  278.850006  283.000000  278.750000  281.000000  225.124405   \n",
       "\n",
       "        Volume  \n",
       "1447   9998498  \n",
       "1894   7084644  \n",
       "1166  17433461  \n",
       "1547   5212182  \n",
       "944    3911080  \n",
       "1574   6282351  \n",
       "874    7761358  \n",
       "1216   6313305  \n",
       "282   15478765  \n",
       "1285   7123953  "
      ]
     },
     "execution_count": 9,
     "metadata": {},
     "output_type": "execute_result"
    }
   ],
   "source": [
    "prices.sample(10)"
   ]
  },
  {
   "cell_type": "code",
   "execution_count": 10,
   "id": "540660b6",
   "metadata": {},
   "outputs": [
    {
     "data": {
      "text/plain": [
       "(2705, 7)"
      ]
     },
     "execution_count": 10,
     "metadata": {},
     "output_type": "execute_result"
    }
   ],
   "source": [
    "prices.shape"
   ]
  },
  {
   "cell_type": "markdown",
   "id": "0f4ddf6d",
   "metadata": {},
   "source": [
    "as we can see, a new column has been added and the <b>shape[1]</b> increased from *6* to *7*"
   ]
  },
  {
   "cell_type": "markdown",
   "id": "dde275fd",
   "metadata": {},
   "source": [
    "### Prediction strategy\n",
    "Our model will be trained to predict the price of a particular stock using the <b>moving average</b> of the same for the past *100* days.<br>\n",
    "This implies that the fluctuations in the last *100* days of the price will be studied and the price for the *101*st day will be predicted using that."
   ]
  },
  {
   "cell_type": "markdown",
   "id": "df2a2512",
   "metadata": {},
   "source": [
    "### Plotting the moving averages"
   ]
  },
  {
   "cell_type": "code",
   "execution_count": 11,
   "id": "aefc3546",
   "metadata": {},
   "outputs": [],
   "source": [
    "#calculating the moving average using rolling() function and finding the mean over a period of 100 days (window size =100)\n",
    "ma_100=prices.Close.rolling(100).mean()"
   ]
  },
  {
   "cell_type": "code",
   "execution_count": 12,
   "id": "ae8b4403",
   "metadata": {},
   "outputs": [
    {
     "data": {
      "image/png": "[encoded data removed]",
      "text/plain": [
       "<Figure size 800x400 with 1 Axes>"
      ]
     },
     "metadata": {},
     "output_type": "display_data"
    }
   ],
   "source": [
    "plt.figure(figsize=(8,4))\n",
    "plt.plot(ma_100,'r')\n",
    "plt.plot(prices['Close'],'b')\n",
    "plt.ylabel(\"Price (in Rupees)\")\n",
    "plt.xlabel(\"Days\")\n",
    "plt.show()"
   ]
  },
  {
   "cell_type": "code",
   "execution_count": 13,
   "id": "b5b784c1",
   "metadata": {},
   "outputs": [],
   "source": [
    "#Calculating the moving average of 200 days\n",
    "ma_200= prices['Close'].rolling(200).mean()"
   ]
  },
  {
   "cell_type": "code",
   "execution_count": 14,
   "id": "3b9bc362",
   "metadata": {},
   "outputs": [
    {
     "data": {
      "image/png": "[encoded data removed]",
      "text/plain": [
       "<Figure size 800x400 with 1 Axes>"
      ]
     },
     "metadata": {},
     "output_type": "display_data"
    }
   ],
   "source": [
    "plt.figure(figsize=(8,4))\n",
    "plt.plot(ma_100,'b')\n",
    "plt.plot(ma_200,'r')\n",
    "plt.plot(prices['Close'],'g')\n",
    "plt.ylabel(\"Price (in Rupees)\")\n",
    "plt.xlabel(\"Days\")\n",
    "plt.show()"
   ]
  },
  {
   "cell_type": "markdown",
   "id": "5975d23d",
   "metadata": {},
   "source": [
    "### Splitting the dataset into training and testing"
   ]
  },
  {
   "cell_type": "code",
   "execution_count": 15,
   "id": "44971682",
   "metadata": {},
   "outputs": [],
   "source": [
    "#adding the first 80% of the data values into training set and the rest 20% into test set\n",
    "data_train = prices['Close'][0:int(len(prices)*0.80)]\n",
    "data_test = prices['Close'][int(len(prices)*0.80):len(prices)]"
   ]
  },
  {
   "cell_type": "code",
   "execution_count": 16,
   "id": "ccd927c0",
   "metadata": {},
   "outputs": [
    {
     "data": {
      "text/plain": [
       "0    132.433334\n",
       "1    133.566666\n",
       "2    133.033340\n",
       "3    133.199997\n",
       "4    134.733337\n",
       "Name: Close, dtype: float64"
      ]
     },
     "execution_count": 16,
     "metadata": {},
     "output_type": "execute_result"
    }
   ],
   "source": [
    "#viewing the first 5 values of the \n",
    "data_train.head()"
   ]
  },
  {
   "cell_type": "code",
   "execution_count": 17,
   "id": "ef25d99b",
   "metadata": {},
   "outputs": [
    {
     "data": {
      "text/plain": [
       "2164    165.699997\n",
       "2165    168.250000\n",
       "2166    167.449997\n",
       "2167    167.649994\n",
       "2168    168.550003\n",
       "Name: Close, dtype: float64"
      ]
     },
     "execution_count": 17,
     "metadata": {},
     "output_type": "execute_result"
    }
   ],
   "source": [
    "data_test.head()"
   ]
  },
  {
   "cell_type": "code",
   "execution_count": 18,
   "id": "00904f75",
   "metadata": {},
   "outputs": [
    {
     "name": "stdout",
     "output_type": "stream",
     "text": [
      "(2164,) (541,)\n"
     ]
    }
   ],
   "source": [
    "print(data_train.shape,data_test.shape)"
   ]
  },
  {
   "cell_type": "code",
   "execution_count": 19,
   "id": "81a0d372",
   "metadata": {},
   "outputs": [],
   "source": [
    "#scaling down the training and test set values to lie b/w 0 and 1\n",
    "scaler = MinMaxScaler(feature_range=(0,1))"
   ]
  },
  {
   "cell_type": "code",
   "execution_count": 20,
   "id": "9fbca186",
   "metadata": {},
   "outputs": [
    {
     "data": {
      "text/plain": [
       "array([[132.43333435],\n",
       "       [133.56666565],\n",
       "       [133.03334045],\n",
       "       ...,\n",
       "       [170.1499939 ],\n",
       "       [167.80000305],\n",
       "       [165.05000305]])"
      ]
     },
     "execution_count": 20,
     "metadata": {},
     "output_type": "execute_result"
    }
   ],
   "source": [
    "#reshaping the training dataset to form a 2d array\n",
    "data_train = np.array(data_train)\n",
    "data_train=data_train.reshape(-1,1)\n",
    "data_train"
   ]
  },
  {
   "cell_type": "code",
   "execution_count": 21,
   "id": "2e3ab7c8",
   "metadata": {},
   "outputs": [],
   "source": [
    "data_train_scale = scaler.fit_transform(data_train)"
   ]
  },
  {
   "cell_type": "code",
   "execution_count": 22,
   "id": "d6f3e21e",
   "metadata": {},
   "outputs": [
    {
     "data": {
      "text/plain": [
       "array([[0.        ],\n",
       "       [0.0053951 ],\n",
       "       [0.00285627],\n",
       "       ...,\n",
       "       [0.17954614],\n",
       "       [0.16835926],\n",
       "       [0.15526818]])"
      ]
     },
     "execution_count": 22,
     "metadata": {},
     "output_type": "execute_result"
    }
   ],
   "source": [
    "data_train_scale"
   ]
  },
  {
   "cell_type": "code",
   "execution_count": 23,
   "id": "70356065",
   "metadata": {},
   "outputs": [
    {
     "data": {
      "text/plain": [
       "array([[165.69999695],\n",
       "       [168.25      ],\n",
       "       [167.44999695],\n",
       "       [167.6499939 ],\n",
       "       [168.55000305],\n",
       "       [170.75      ],\n",
       "       [168.55000305],\n",
       "       [167.19999695],\n",
       "       [165.5       ],\n",
       "       [163.8500061 ]])"
      ]
     },
     "execution_count": 23,
     "metadata": {},
     "output_type": "execute_result"
    }
   ],
   "source": [
    "data_test = np.array(data_test)\n",
    "data_test = data_test.reshape(-1,1)\n",
    "data_test[:10]"
   ]
  },
  {
   "cell_type": "code",
   "execution_count": 24,
   "id": "aac148b2",
   "metadata": {},
   "outputs": [],
   "source": [
    "data_test_scale = scaler.fit_transform(data_test)"
   ]
  },
  {
   "cell_type": "code",
   "execution_count": 25,
   "id": "867b6cd5",
   "metadata": {
    "scrolled": true
   },
   "outputs": [
    {
     "data": {
      "text/plain": [
       "array([[0.00711198],\n",
       "       [0.014732  ],\n",
       "       [0.03175006],\n",
       "       [0.03022604],\n",
       "       [0.05537208],\n",
       "       [0.05130805],\n",
       "       [0.04546607],\n",
       "       [0.07366015],\n",
       "       [0.1089662 ],\n",
       "       [0.12268221]])"
      ]
     },
     "execution_count": 25,
     "metadata": {},
     "output_type": "execute_result"
    }
   ],
   "source": [
    "data_test_scale[10:20]"
   ]
  },
  {
   "cell_type": "markdown",
   "id": "7c10cc37",
   "metadata": {},
   "source": [
    "we take the data from past 100 days each time to predict the price of stock for the 101th day"
   ]
  },
  {
   "cell_type": "code",
   "execution_count": 36,
   "id": "41268b97",
   "metadata": {},
   "outputs": [],
   "source": [
    "x=[]\n",
    "y=[]\n",
    "for i in range(100,data_train_scale.shape[0]):\n",
    "    x.append(data_train_scale[i-100:i])\n",
    "    y.append(data_train_scale[i,0])"
   ]
  },
  {
   "cell_type": "code",
   "execution_count": 27,
   "id": "228df65a",
   "metadata": {},
   "outputs": [],
   "source": [
    "#converting the input features into numpy arrays\n",
    "x= np.array(x)\n",
    "y= np.array(y)"
   ]
  },
  {
   "cell_type": "markdown",
   "id": "2491053e",
   "metadata": {},
   "source": [
    "### Model Creation"
   ]
  },
  {
   "cell_type": "markdown",
   "id": "529a3856",
   "metadata": {},
   "source": [
    "A <b>Sequential</b> object can be used to group several layers of a neural network and group them together instead of individually creating every single layer and implementing it in the code."
   ]
  },
  {
   "cell_type": "code",
   "execution_count": 28,
   "id": "b9b3fe61",
   "metadata": {},
   "outputs": [],
   "source": [
    "#Creating a Sequential object\n",
    "model = Sequential()\n",
    "model.add(LSTM(units=50, activation='relu',return_sequences= True, input_shape=((x.shape[1],1))))\n",
    "model.add(Dropout(0.2))\n",
    "\n",
    "model.add(LSTM(units=60, activation='relu',return_sequences= True))\n",
    "model.add(Dropout(0.3))\n",
    "\n",
    "model.add(LSTM(units=80, activation='relu',return_sequences= True))\n",
    "model.add(Dropout(0.4))\n",
    "\n",
    "model.add(LSTM(units=120, activation='relu'))\n",
    "model.add(Dropout(0.5))\n",
    "\n",
    "model.add(Dense(units=1))"
   ]
  },
  {
   "cell_type": "code",
   "execution_count": 29,
   "id": "6d4c2e16",
   "metadata": {},
   "outputs": [],
   "source": [
    "model.compile(optimizer='adam', loss='mean_squared_error')"
   ]
  },
  {
   "cell_type": "code",
   "execution_count": 30,
   "id": "9e5f1f7b",
   "metadata": {
    "scrolled": true
   },
   "outputs": [
    {
     "name": "stdout",
     "output_type": "stream",
     "text": [
      "Epoch 1/50\n",
      "65/65 [==============================] - 12s 137ms/step - loss: 0.0496\n",
      "Epoch 2/50\n",
      "65/65 [==============================] - 9s 139ms/step - loss: 0.0120\n",
      "Epoch 3/50\n",
      "65/65 [==============================] - 9s 137ms/step - loss: 0.0111\n",
      "Epoch 4/50\n",
      "65/65 [==============================] - 9s 139ms/step - loss: 0.0096\n",
      "Epoch 5/50\n",
      "65/65 [==============================] - 9s 137ms/step - loss: 0.0090\n",
      "Epoch 6/50\n",
      "65/65 [==============================] - 9s 137ms/step - loss: 0.0084\n",
      "Epoch 7/50\n",
      "65/65 [==============================] - 9s 137ms/step - loss: 0.0078\n",
      "Epoch 8/50\n",
      "65/65 [==============================] - 9s 138ms/step - loss: 0.0078\n",
      "Epoch 9/50\n",
      "65/65 [==============================] - 9s 138ms/step - loss: 0.0074\n",
      "Epoch 10/50\n",
      "65/65 [==============================] - 9s 140ms/step - loss: 0.0070\n",
      "Epoch 11/50\n",
      "65/65 [==============================] - 9s 138ms/step - loss: 0.0071\n",
      "Epoch 12/50\n",
      "65/65 [==============================] - 9s 138ms/step - loss: 0.0061\n",
      "Epoch 13/50\n",
      "65/65 [==============================] - 9s 144ms/step - loss: 0.0065\n",
      "Epoch 14/50\n",
      "65/65 [==============================] - 9s 141ms/step - loss: 0.0057\n",
      "Epoch 15/50\n",
      "65/65 [==============================] - 9s 138ms/step - loss: 0.0051\n",
      "Epoch 16/50\n",
      "65/65 [==============================] - 9s 141ms/step - loss: 0.0052\n",
      "Epoch 17/50\n",
      "65/65 [==============================] - 9s 142ms/step - loss: 0.0046\n",
      "Epoch 18/50\n",
      "65/65 [==============================] - 9s 141ms/step - loss: 0.0050\n",
      "Epoch 19/50\n",
      "65/65 [==============================] - 9s 143ms/step - loss: 0.0048\n",
      "Epoch 20/50\n",
      "65/65 [==============================] - 9s 142ms/step - loss: 0.0043\n",
      "Epoch 21/50\n",
      "65/65 [==============================] - 9s 140ms/step - loss: 0.0047\n",
      "Epoch 22/50\n",
      "65/65 [==============================] - 9s 141ms/step - loss: 0.0043\n",
      "Epoch 23/50\n",
      "65/65 [==============================] - 10s 147ms/step - loss: 0.0042\n",
      "Epoch 24/50\n",
      "65/65 [==============================] - 10s 148ms/step - loss: 0.0040\n",
      "Epoch 25/50\n",
      "65/65 [==============================] - 10s 147ms/step - loss: 0.0038\n",
      "Epoch 26/50\n",
      "65/65 [==============================] - 9s 143ms/step - loss: 0.0035\n",
      "Epoch 27/50\n",
      "65/65 [==============================] - 9s 145ms/step - loss: 0.0034\n",
      "Epoch 28/50\n",
      "65/65 [==============================] - 9s 138ms/step - loss: 0.0035\n",
      "Epoch 29/50\n",
      "65/65 [==============================] - 9s 138ms/step - loss: 0.0036\n",
      "Epoch 30/50\n",
      "65/65 [==============================] - 9s 145ms/step - loss: 0.0030\n",
      "Epoch 31/50\n",
      "65/65 [==============================] - 9s 144ms/step - loss: 0.0032\n",
      "Epoch 32/50\n",
      "65/65 [==============================] - 9s 140ms/step - loss: 0.0030\n",
      "Epoch 33/50\n",
      "65/65 [==============================] - 9s 144ms/step - loss: 0.0029\n",
      "Epoch 34/50\n",
      "65/65 [==============================] - 9s 143ms/step - loss: 0.0028\n",
      "Epoch 35/50\n",
      "65/65 [==============================] - 9s 144ms/step - loss: 0.0029\n",
      "Epoch 36/50\n",
      "65/65 [==============================] - 10s 151ms/step - loss: 0.0028\n",
      "Epoch 37/50\n",
      "65/65 [==============================] - 10s 149ms/step - loss: 0.0028\n",
      "Epoch 38/50\n",
      "65/65 [==============================] - 9s 144ms/step - loss: 0.0027\n",
      "Epoch 39/50\n",
      "65/65 [==============================] - 10s 149ms/step - loss: 0.0024\n",
      "Epoch 40/50\n",
      "65/65 [==============================] - 10s 146ms/step - loss: 0.0024\n",
      "Epoch 41/50\n",
      "65/65 [==============================] - 9s 144ms/step - loss: 0.0025\n",
      "Epoch 42/50\n",
      "65/65 [==============================] - 9s 141ms/step - loss: 0.0023\n",
      "Epoch 43/50\n",
      "65/65 [==============================] - 9s 143ms/step - loss: 0.0026\n",
      "Epoch 44/50\n",
      "65/65 [==============================] - 9s 146ms/step - loss: 0.0024\n",
      "Epoch 45/50\n",
      "65/65 [==============================] - 9s 143ms/step - loss: 0.0023\n",
      "Epoch 46/50\n",
      "65/65 [==============================] - 9s 144ms/step - loss: 0.0025\n",
      "Epoch 47/50\n",
      "65/65 [==============================] - 9s 142ms/step - loss: 0.0023\n",
      "Epoch 48/50\n",
      "65/65 [==============================] - 9s 142ms/step - loss: 0.0022\n",
      "Epoch 49/50\n",
      "65/65 [==============================] - 9s 144ms/step - loss: 0.0023\n",
      "Epoch 50/50\n",
      "65/65 [==============================] - 9s 145ms/step - loss: 0.0021\n"
     ]
    },
    {
     "data": {
      "text/plain": [
       "<keras.src.callbacks.History at 0x19b441cc490>"
      ]
     },
     "execution_count": 30,
     "metadata": {},
     "output_type": "execute_result"
    }
   ],
   "source": [
    "model.fit(x,y,epochs=50,batch_size=32, verbose=1)"
   ]
  },
  {
   "cell_type": "code",
   "execution_count": 31,
   "id": "352727e3",
   "metadata": {},
   "outputs": [
    {
     "name": "stdout",
     "output_type": "stream",
     "text": [
      "Model: \"sequential\"\n",
      "_________________________________________________________________\n",
      " Layer (type)                Output Shape              Param #   \n",
      "=================================================================\n",
      " lstm (LSTM)                 (None, 100, 50)           10400     \n",
      "                                                                 \n",
      " dropout (Dropout)           (None, 100, 50)           0         \n",
      "                                                                 \n",
      " lstm_1 (LSTM)               (None, 100, 60)           26640     \n",
      "                                                                 \n",
      " dropout_1 (Dropout)         (None, 100, 60)           0         \n",
      "                                                                 \n",
      " lstm_2 (LSTM)               (None, 100, 80)           45120     \n",
      "                                                                 \n",
      " dropout_2 (Dropout)         (None, 100, 80)           0         \n",
      "                                                                 \n",
      " lstm_3 (LSTM)               (None, 120)               96480     \n",
      "                                                                 \n",
      " dropout_3 (Dropout)         (None, 120)               0         \n",
      "                                                                 \n",
      " dense (Dense)               (None, 1)                 121       \n",
      "                                                                 \n",
      "=================================================================\n",
      "Total params: 178761 (698.29 KB)\n",
      "Trainable params: 178761 (698.29 KB)\n",
      "Non-trainable params: 0 (0.00 Byte)\n",
      "_________________________________________________________________\n"
     ]
    }
   ],
   "source": [
    "#model's summary\n",
    "model.summary()"
   ]
  },
  {
   "cell_type": "markdown",
   "id": "0e99929d",
   "metadata": {},
   "source": [
    "### Evaluation of model"
   ]
  },
  {
   "cell_type": "markdown",
   "id": "e7eb0df8",
   "metadata": {},
   "source": [
    "We predict the closing price of a stock for nth day using the data for the last n-100 days. So we need to add the last *100* rows from the training dataset into the test dataset to evaluate the values after that and so on and so forth"
   ]
  },
  {
   "cell_type": "code",
   "execution_count": 32,
   "id": "f4c1d202",
   "metadata": {
    "scrolled": true
   },
   "outputs": [],
   "source": [
    "#converting np array into pd dataframe and finding the last 100 rows\n",
    "last_100_days = (pd.DataFrame(data_train_scale)).tail(100)"
   ]
  },
  {
   "cell_type": "code",
   "execution_count": 33,
   "id": "42fdbb86",
   "metadata": {},
   "outputs": [],
   "source": [
    "#concatenating the 'last 100 days' rows with the data_test_scale dataset\n",
    "data_test_scale = pd.concat([last_100_days,pd.DataFrame(data_test_scale)],ignore_index=True)"
   ]
  },
  {
   "cell_type": "code",
   "execution_count": 65,
   "id": "8d38af9e",
   "metadata": {},
   "outputs": [
    {
     "data": {
      "text/plain": [
       "array([[0.27713421],\n",
       "       [0.30902891],\n",
       "       [0.32426215],\n",
       "       [0.30855284],\n",
       "       [0.30593461],\n",
       "       [0.32235795],\n",
       "       [0.32164392],\n",
       "       [0.31045697],\n",
       "       [0.31450333],\n",
       "       [0.31712156]])"
      ]
     },
     "execution_count": 65,
     "metadata": {},
     "output_type": "execute_result"
    }
   ],
   "source": [
    "data_test_scale= np.array(data_test_scale).reshape(-1,1)\n",
    "data_test_scale[:10]"
   ]
  },
  {
   "cell_type": "code",
   "execution_count": 67,
   "id": "2c39ca2f",
   "metadata": {},
   "outputs": [],
   "source": [
    "#appending the last 100 days data into a list to feed to the model\n",
    "x=[]\n",
    "y=[]\n",
    "for i in range(100,data_test_scale.shape[0]):\n",
    "    x.append(data_test_scale[i-100:i])\n",
    "    y.append(data_test_scale[i,0])"
   ]
  },
  {
   "cell_type": "code",
   "execution_count": 68,
   "id": "d7a431bd",
   "metadata": {},
   "outputs": [],
   "source": [
    "# converting the lists into numpy arrays\n",
    "x= np.array(x)\n",
    "y= np.array(y)"
   ]
  },
  {
   "cell_type": "code",
   "execution_count": 69,
   "id": "2bed18c3",
   "metadata": {},
   "outputs": [
    {
     "name": "stdout",
     "output_type": "stream",
     "text": [
      "17/17 [==============================] - 1s 42ms/step\n"
     ]
    }
   ],
   "source": [
    "#feeding the data into the model to make predictions\n",
    "y_predicted = model.predict(x)"
   ]
  },
  {
   "cell_type": "code",
   "execution_count": 70,
   "id": "341664fb",
   "metadata": {},
   "outputs": [
    {
     "data": {
      "text/plain": [
       "array([[0.19961853],\n",
       "       [0.1945925 ],\n",
       "       [0.18473612],\n",
       "       [0.17049679],\n",
       "       [0.15384018],\n",
       "       [0.13750392],\n",
       "       [0.12420413],\n",
       "       [0.11518481],\n",
       "       [0.11033958],\n",
       "       [0.10859472]], dtype=float32)"
      ]
     },
     "execution_count": 70,
     "metadata": {},
     "output_type": "execute_result"
    }
   ],
   "source": [
    "#printing the first 10 predictions\n",
    "y_predicted[:10]"
   ]
  },
  {
   "cell_type": "code",
   "execution_count": 74,
   "id": "96a1e6d5",
   "metadata": {},
   "outputs": [],
   "source": [
    "#converting the predicted values back to the original prices\n",
    "y_predicted=y_predicted*(1/scaler.scale_)"
   ]
  },
  {
   "cell_type": "code",
   "execution_count": 76,
   "id": "cb42ecdd",
   "metadata": {},
   "outputs": [
    {
     "data": {
      "text/plain": [
       "array([[39.29490949],\n",
       "       [38.30553593],\n",
       "       [36.3653059 ],\n",
       "       [33.56229447],\n",
       "       [30.2834412 ],\n",
       "       [27.06764788],\n",
       "       [24.44958355],\n",
       "       [22.67413129],\n",
       "       [21.72034738],\n",
       "       [21.37687043]])"
      ]
     },
     "execution_count": 76,
     "metadata": {},
     "output_type": "execute_result"
    }
   ],
   "source": [
    "#printing the first 10 predicted values\n",
    "y_predicted[:10]"
   ]
  },
  {
   "cell_type": "code",
   "execution_count": 78,
   "id": "e09073c7",
   "metadata": {},
   "outputs": [],
   "source": [
    "#converting back the actual values\n",
    "y = y*(1/scaler.scale_)"
   ]
  },
  {
   "cell_type": "code",
   "execution_count": 79,
   "id": "5e7f73e6",
   "metadata": {},
   "outputs": [
    {
     "data": {
      "image/png": "[encoded data removed]",
      "text/plain": [
       "<Figure size 1000x800 with 1 Axes>"
      ]
     },
     "metadata": {},
     "output_type": "display_data"
    }
   ],
   "source": [
    "#plotting the predicted and actual values to see how good the model is\n",
    "plt.figure(figsize=(10,8))\n",
    "plt.plot(y_predicted,'r',label='predicted price')\n",
    "plt.plot(y,'g',label = 'Original Price')\n",
    "plt.xlabel(\"time\")\n",
    "plt.ylabel(\"price\")\n",
    "plt.legend()\n",
    "plt.show()"
   ]
  },
  {
   "cell_type": "code",
   "execution_count": 87,
   "id": "30acdbcf",
   "metadata": {},
   "outputs": [],
   "source": [
    "model.save('Stock_prediction_model.keras')"
   ]
  },
  {
   "cell_type": "code",
   "execution_count": null,
   "id": "7c494d9c",
   "metadata": {},
   "outputs": [],
   "source": []
  },
  {
   "cell_type": "code",
   "execution_count": null,
   "id": "0a350bcc",
   "metadata": {},
   "outputs": [],
   "source": []
  },
  {
   "cell_type": "code",
   "execution_count": null,
   "id": "902f9bdb",
   "metadata": {},
   "outputs": [],
   "source": []
  },
  {
   "cell_type": "code",
   "execution_count": null,
   "id": "71f44876",
   "metadata": {},
   "outputs": [],
   "source": []
  },
  {
   "cell_type": "code",
   "execution_count": null,
   "id": "ef913a65",
   "metadata": {},
   "outputs": [],
   "source": []
  },
  {
   "cell_type": "code",
   "execution_count": null,
   "id": "267dde5a",
   "metadata": {},
   "outputs": [],
   "source": []
  },
  {
   "cell_type": "code",
   "execution_count": null,
   "id": "db9e2650",
   "metadata": {},
   "outputs": [],
   "source": []
  },
  {
   "cell_type": "code",
   "execution_count": null,
   "id": "9e7591b0",
   "metadata": {},
   "outputs": [],
   "source": []
  },
  {
   "cell_type": "markdown",
   "id": "5c1d3bfd",
   "metadata": {},
   "source": []
  }
 ],
 "metadata": {
  "kernelspec": {
   "display_name": "Python 3 (ipykernel)",
   "language": "python",
   "name": "python3"
  },
  "language_info": {
   "codemirror_mode": {
    "name": "ipython",
    "version": 3
   },
   "file_extension": ".py",
   "mimetype": "text/x-python",
   "name": "python",
   "nbconvert_exporter": "python",
   "pygments_lexer": "ipython3",
   "version": "3.11.4"
  }
 },
 "nbformat": 4,
 "nbformat_minor": 5
}
