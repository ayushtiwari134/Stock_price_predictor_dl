{
 "cells": [
  {
   "cell_type": "code",
   "execution_count": 1,
   "id": "0e5723ff",
   "metadata": {},
   "outputs": [],
   "source": [
    "# Required libraries :\n",
    "# tensorflow\n",
    "# yfinance\n",
    "# matplotlib\n",
    "# pandas\n",
    "# numpy"
   ]
  },
  {
   "cell_type": "markdown",
   "id": "17edde9b",
   "metadata": {},
   "source": [
    "Install all the above mentioned libraries using <b>'pip'</b>. <br>\n",
    "For example to install <b>yfinance</b>, run : `pip install yfinance`    "
   ]
  },
  {
   "cell_type": "markdown",
   "id": "f302be5b",
   "metadata": {},
   "source": [
    "### Imports"
   ]
  },
  {
   "cell_type": "code",
   "execution_count": 2,
   "id": "ff5f48c7",
   "metadata": {},
   "outputs": [],
   "source": [
    "import numpy as np\n",
    "import pandas as pd\n",
    "import matplotlib.pyplot as plt\n",
    "import yfinance as yf\n",
    "from keras.layers import Dense, Dropout, LSTM\n",
    "from keras.models import Sequential\n",
    "from sklearn.preprocessing import MinMaxScaler\n",
    "import pickle"
   ]
  },
  {
   "cell_type": "markdown",
   "id": "c61288b7",
   "metadata": {},
   "source": [
    "### Deciding two things:\n",
    "1. the <b>dates</b> over which we want to collect the data\n",
    "2. the <b>stock symbol</b> for which we want to train the model"
   ]
  },
  {
   "cell_type": "code",
   "execution_count": 3,
   "id": "d48757d2",
   "metadata": {},
   "outputs": [],
   "source": [
    "# we chose the 'ITC' stock over the NSE market over a period of 10 years\n",
    "start = '2012-01-01'\n",
    "end = '2022-12-21'\n",
    "stock = 'ITC.NS' "
   ]
  },
  {
   "cell_type": "code",
   "execution_count": 4,
   "id": "5fcdab67",
   "metadata": {},
   "outputs": [
    {
     "name": "stdout",
     "output_type": "stream",
     "text": [
      "[*********************100%%**********************]  1 of 1 completed\n"
     ]
    }
   ],
   "source": [
    "#downloading the data\n",
    "data = yf.download(stock,start,end)"
   ]
  },
  {
   "cell_type": "markdown",
   "id": "50e564c1",
   "metadata": {},
   "source": [
    "### EDA"
   ]
  },
  {
   "cell_type": "code",
   "execution_count": 5,
   "id": "4808f187",
   "metadata": {
    "scrolled": false
   },
   "outputs": [
    {
     "data": {
      "text/html": [
       "<div>\n",
       "<style scoped>\n",
       "    .dataframe tbody tr th:only-of-type {\n",
       "        vertical-align: middle;\n",
       "    }\n",
       "\n",
       "    .dataframe tbody tr th {\n",
       "        vertical-align: top;\n",
       "    }\n",
       "\n",
       "    .dataframe thead th {\n",
       "        text-align: right;\n",
       "    }\n",
       "</style>\n",
       "<table border=\"1\" class=\"dataframe\">\n",
       "  <thead>\n",
       "    <tr style=\"text-align: right;\">\n",
       "      <th></th>\n",
       "      <th>Open</th>\n",
       "      <th>High</th>\n",
       "      <th>Low</th>\n",
       "      <th>Close</th>\n",
       "      <th>Adj Close</th>\n",
       "      <th>Volume</th>\n",
       "    </tr>\n",
       "    <tr>\n",
       "      <th>Date</th>\n",
       "      <th></th>\n",
       "      <th></th>\n",
       "      <th></th>\n",
       "      <th></th>\n",
       "      <th></th>\n",
       "      <th></th>\n",
       "    </tr>\n",
       "  </thead>\n",
       "  <tbody>\n",
       "    <tr>\n",
       "      <th>2017-03-07</th>\n",
       "      <td>264.299988</td>\n",
       "      <td>265.000000</td>\n",
       "      <td>261.149994</td>\n",
       "      <td>264.250000</td>\n",
       "      <td>211.705063</td>\n",
       "      <td>6917130</td>\n",
       "    </tr>\n",
       "    <tr>\n",
       "      <th>2017-08-16</th>\n",
       "      <td>272.000000</td>\n",
       "      <td>281.750000</td>\n",
       "      <td>271.350006</td>\n",
       "      <td>279.200012</td>\n",
       "      <td>227.061249</td>\n",
       "      <td>18692336</td>\n",
       "    </tr>\n",
       "    <tr>\n",
       "      <th>2013-02-26</th>\n",
       "      <td>195.333328</td>\n",
       "      <td>198.899994</td>\n",
       "      <td>192.533340</td>\n",
       "      <td>193.899994</td>\n",
       "      <td>146.545807</td>\n",
       "      <td>10622350</td>\n",
       "    </tr>\n",
       "    <tr>\n",
       "      <th>2014-02-18</th>\n",
       "      <td>213.333328</td>\n",
       "      <td>214.366669</td>\n",
       "      <td>210.766663</td>\n",
       "      <td>211.266663</td>\n",
       "      <td>162.072769</td>\n",
       "      <td>5848975</td>\n",
       "    </tr>\n",
       "    <tr>\n",
       "      <th>2019-11-01</th>\n",
       "      <td>259.350006</td>\n",
       "      <td>263.000000</td>\n",
       "      <td>258.750000</td>\n",
       "      <td>261.299988</td>\n",
       "      <td>220.710419</td>\n",
       "      <td>12571588</td>\n",
       "    </tr>\n",
       "    <tr>\n",
       "      <th>2014-08-22</th>\n",
       "      <td>230.833328</td>\n",
       "      <td>231.899994</td>\n",
       "      <td>227.699997</td>\n",
       "      <td>229.100006</td>\n",
       "      <td>178.942810</td>\n",
       "      <td>6859716</td>\n",
       "    </tr>\n",
       "    <tr>\n",
       "      <th>2015-05-05</th>\n",
       "      <td>219.066666</td>\n",
       "      <td>219.333328</td>\n",
       "      <td>215.733337</td>\n",
       "      <td>217.500000</td>\n",
       "      <td>169.882416</td>\n",
       "      <td>13458043</td>\n",
       "    </tr>\n",
       "    <tr>\n",
       "      <th>2019-09-23</th>\n",
       "      <td>250.000000</td>\n",
       "      <td>260.500000</td>\n",
       "      <td>249.899994</td>\n",
       "      <td>254.850006</td>\n",
       "      <td>215.262375</td>\n",
       "      <td>52040316</td>\n",
       "    </tr>\n",
       "    <tr>\n",
       "      <th>2016-07-29</th>\n",
       "      <td>254.199997</td>\n",
       "      <td>256.500000</td>\n",
       "      <td>251.399994</td>\n",
       "      <td>252.449997</td>\n",
       "      <td>202.251434</td>\n",
       "      <td>12129756</td>\n",
       "    </tr>\n",
       "    <tr>\n",
       "      <th>2020-06-08</th>\n",
       "      <td>202.899994</td>\n",
       "      <td>203.649994</td>\n",
       "      <td>197.000000</td>\n",
       "      <td>197.649994</td>\n",
       "      <td>166.947632</td>\n",
       "      <td>19551313</td>\n",
       "    </tr>\n",
       "  </tbody>\n",
       "</table>\n",
       "</div>"
      ],
      "text/plain": [
       "                  Open        High         Low       Close   Adj Close  \\\n",
       "Date                                                                     \n",
       "2017-03-07  264.299988  265.000000  261.149994  264.250000  211.705063   \n",
       "2017-08-16  272.000000  281.750000  271.350006  279.200012  227.061249   \n",
       "2013-02-26  195.333328  198.899994  192.533340  193.899994  146.545807   \n",
       "2014-02-18  213.333328  214.366669  210.766663  211.266663  162.072769   \n",
       "2019-11-01  259.350006  263.000000  258.750000  261.299988  220.710419   \n",
       "2014-08-22  230.833328  231.899994  227.699997  229.100006  178.942810   \n",
       "2015-05-05  219.066666  219.333328  215.733337  217.500000  169.882416   \n",
       "2019-09-23  250.000000  260.500000  249.899994  254.850006  215.262375   \n",
       "2016-07-29  254.199997  256.500000  251.399994  252.449997  202.251434   \n",
       "2020-06-08  202.899994  203.649994  197.000000  197.649994  166.947632   \n",
       "\n",
       "              Volume  \n",
       "Date                  \n",
       "2017-03-07   6917130  \n",
       "2017-08-16  18692336  \n",
       "2013-02-26  10622350  \n",
       "2014-02-18   5848975  \n",
       "2019-11-01  12571588  \n",
       "2014-08-22   6859716  \n",
       "2015-05-05  13458043  \n",
       "2019-09-23  52040316  \n",
       "2016-07-29  12129756  \n",
       "2020-06-08  19551313  "
      ]
     },
     "execution_count": 5,
     "metadata": {},
     "output_type": "execute_result"
    }
   ],
   "source": [
    "# create a new pandas dataframe using the data received from yfinance\n",
    "prices = pd.DataFrame(data)\n",
    "prices.sample(10)"
   ]
  },
  {
   "cell_type": "code",
   "execution_count": 6,
   "id": "d83664c1",
   "metadata": {},
   "outputs": [
    {
     "data": {
      "text/plain": [
       "Open         0\n",
       "High         0\n",
       "Low          0\n",
       "Close        0\n",
       "Adj Close    0\n",
       "Volume       0\n",
       "dtype: int64"
      ]
     },
     "execution_count": 6,
     "metadata": {},
     "output_type": "execute_result"
    }
   ],
   "source": [
    "#checking null values\n",
    "prices.isnull().sum()"
   ]
  },
  {
   "cell_type": "code",
   "execution_count": 7,
   "id": "43af5cff",
   "metadata": {},
   "outputs": [
    {
     "data": {
      "text/plain": [
       "(2705, 6)"
      ]
     },
     "execution_count": 7,
     "metadata": {},
     "output_type": "execute_result"
    }
   ],
   "source": [
    "prices.shape"
   ]
  },
  {
   "cell_type": "code",
   "execution_count": 8,
   "id": "637f8013",
   "metadata": {},
   "outputs": [],
   "source": [
    "#add a new row to indicate the indeces\n",
    "prices.reset_index(inplace=True)"
   ]
  },
  {
   "cell_type": "code",
   "execution_count": 9,
   "id": "937961a9",
   "metadata": {
    "scrolled": true
   },
   "outputs": [
    {
     "data": {
      "text/html": [
       "<div>\n",
       "<style scoped>\n",
       "    .dataframe tbody tr th:only-of-type {\n",
       "        vertical-align: middle;\n",
       "    }\n",
       "\n",
       "    .dataframe tbody tr th {\n",
       "        vertical-align: top;\n",
       "    }\n",
       "\n",
       "    .dataframe thead th {\n",
       "        text-align: right;\n",
       "    }\n",
       "</style>\n",
       "<table border=\"1\" class=\"dataframe\">\n",
       "  <thead>\n",
       "    <tr style=\"text-align: right;\">\n",
       "      <th></th>\n",
       "      <th>Date</th>\n",
       "      <th>Open</th>\n",
       "      <th>High</th>\n",
       "      <th>Low</th>\n",
       "      <th>Close</th>\n",
       "      <th>Adj Close</th>\n",
       "      <th>Volume</th>\n",
       "    </tr>\n",
       "  </thead>\n",
       "  <tbody>\n",
       "    <tr>\n",
       "      <th>409</th>\n",
       "      <td>2013-08-28</td>\n",
       "      <td>197.333328</td>\n",
       "      <td>203.199997</td>\n",
       "      <td>190.133331</td>\n",
       "      <td>198.800003</td>\n",
       "      <td>152.509003</td>\n",
       "      <td>20711271</td>\n",
       "    </tr>\n",
       "    <tr>\n",
       "      <th>648</th>\n",
       "      <td>2014-08-18</td>\n",
       "      <td>236.399994</td>\n",
       "      <td>236.666672</td>\n",
       "      <td>231.033340</td>\n",
       "      <td>233.766663</td>\n",
       "      <td>182.587799</td>\n",
       "      <td>6957297</td>\n",
       "    </tr>\n",
       "    <tr>\n",
       "      <th>439</th>\n",
       "      <td>2013-10-11</td>\n",
       "      <td>232.399994</td>\n",
       "      <td>233.300003</td>\n",
       "      <td>227.133331</td>\n",
       "      <td>228.133331</td>\n",
       "      <td>175.012009</td>\n",
       "      <td>5345368</td>\n",
       "    </tr>\n",
       "    <tr>\n",
       "      <th>1243</th>\n",
       "      <td>2017-01-20</td>\n",
       "      <td>254.250000</td>\n",
       "      <td>256.299988</td>\n",
       "      <td>253.699997</td>\n",
       "      <td>255.399994</td>\n",
       "      <td>204.614853</td>\n",
       "      <td>10843902</td>\n",
       "    </tr>\n",
       "    <tr>\n",
       "      <th>1722</th>\n",
       "      <td>2018-12-31</td>\n",
       "      <td>282.799988</td>\n",
       "      <td>283.850006</td>\n",
       "      <td>281.100006</td>\n",
       "      <td>281.649994</td>\n",
       "      <td>233.427551</td>\n",
       "      <td>5452405</td>\n",
       "    </tr>\n",
       "    <tr>\n",
       "      <th>2421</th>\n",
       "      <td>2021-10-29</td>\n",
       "      <td>225.000000</td>\n",
       "      <td>228.250000</td>\n",
       "      <td>222.300003</td>\n",
       "      <td>223.199997</td>\n",
       "      <td>208.564468</td>\n",
       "      <td>26642108</td>\n",
       "    </tr>\n",
       "    <tr>\n",
       "      <th>2146</th>\n",
       "      <td>2020-09-21</td>\n",
       "      <td>180.000000</td>\n",
       "      <td>180.600006</td>\n",
       "      <td>175.050003</td>\n",
       "      <td>175.750000</td>\n",
       "      <td>156.082535</td>\n",
       "      <td>23891325</td>\n",
       "    </tr>\n",
       "    <tr>\n",
       "      <th>110</th>\n",
       "      <td>2012-06-12</td>\n",
       "      <td>158.100006</td>\n",
       "      <td>162.833328</td>\n",
       "      <td>157.033340</td>\n",
       "      <td>162.033340</td>\n",
       "      <td>122.461594</td>\n",
       "      <td>6512775</td>\n",
       "    </tr>\n",
       "    <tr>\n",
       "      <th>7</th>\n",
       "      <td>2012-01-11</td>\n",
       "      <td>136.766663</td>\n",
       "      <td>137.066666</td>\n",
       "      <td>135.000000</td>\n",
       "      <td>135.533340</td>\n",
       "      <td>100.506386</td>\n",
       "      <td>8114019</td>\n",
       "    </tr>\n",
       "    <tr>\n",
       "      <th>2211</th>\n",
       "      <td>2020-12-23</td>\n",
       "      <td>203.000000</td>\n",
       "      <td>208.250000</td>\n",
       "      <td>202.000000</td>\n",
       "      <td>207.750000</td>\n",
       "      <td>184.501572</td>\n",
       "      <td>23695667</td>\n",
       "    </tr>\n",
       "  </tbody>\n",
       "</table>\n",
       "</div>"
      ],
      "text/plain": [
       "           Date        Open        High         Low       Close   Adj Close  \\\n",
       "409  2013-08-28  197.333328  203.199997  190.133331  198.800003  152.509003   \n",
       "648  2014-08-18  236.399994  236.666672  231.033340  233.766663  182.587799   \n",
       "439  2013-10-11  232.399994  233.300003  227.133331  228.133331  175.012009   \n",
       "1243 2017-01-20  254.250000  256.299988  253.699997  255.399994  204.614853   \n",
       "1722 2018-12-31  282.799988  283.850006  281.100006  281.649994  233.427551   \n",
       "2421 2021-10-29  225.000000  228.250000  222.300003  223.199997  208.564468   \n",
       "2146 2020-09-21  180.000000  180.600006  175.050003  175.750000  156.082535   \n",
       "110  2012-06-12  158.100006  162.833328  157.033340  162.033340  122.461594   \n",
       "7    2012-01-11  136.766663  137.066666  135.000000  135.533340  100.506386   \n",
       "2211 2020-12-23  203.000000  208.250000  202.000000  207.750000  184.501572   \n",
       "\n",
       "        Volume  \n",
       "409   20711271  \n",
       "648    6957297  \n",
       "439    5345368  \n",
       "1243  10843902  \n",
       "1722   5452405  \n",
       "2421  26642108  \n",
       "2146  23891325  \n",
       "110    6512775  \n",
       "7      8114019  \n",
       "2211  23695667  "
      ]
     },
     "execution_count": 9,
     "metadata": {},
     "output_type": "execute_result"
    }
   ],
   "source": [
    "prices.sample(10)"
   ]
  },
  {
   "cell_type": "code",
   "execution_count": 10,
   "id": "540660b6",
   "metadata": {},
   "outputs": [
    {
     "data": {
      "text/plain": [
       "(2705, 7)"
      ]
     },
     "execution_count": 10,
     "metadata": {},
     "output_type": "execute_result"
    }
   ],
   "source": [
    "prices.shape"
   ]
  },
  {
   "cell_type": "markdown",
   "id": "0f4ddf6d",
   "metadata": {},
   "source": [
    "as we can see, a new column has been added and the <b>shape[1]</b> increased from *6* to *7*"
   ]
  },
  {
   "cell_type": "markdown",
   "id": "dde275fd",
   "metadata": {},
   "source": [
    "### Prediction strategy\n",
    "Our model will be trained to predict the price of a particular stock using the <b>moving average</b> of the same for the past *100* days.<br>\n",
    "This implies that the fluctuations in the last *100* days of the price will be studied and the price for the *101*st day will be predicted using that."
   ]
  },
  {
   "cell_type": "markdown",
   "id": "df2a2512",
   "metadata": {},
   "source": [
    "### Plotting the moving averages"
   ]
  },
  {
   "cell_type": "code",
   "execution_count": 11,
   "id": "aefc3546",
   "metadata": {},
   "outputs": [],
   "source": [
    "#calculating the moving average using rolling() function and finding the mean over a period of 100 days (window size =100)\n",
    "ma_100=prices.Close.rolling(100).mean()"
   ]
  },
  {
   "cell_type": "code",
   "execution_count": 12,
   "id": "ae8b4403",
   "metadata": {},
   "outputs": [
    {
     "data": {
      "image/png": "[encoded data removed]",
      "text/plain": [
       "<Figure size 800x400 with 1 Axes>"
      ]
     },
     "metadata": {},
     "output_type": "display_data"
    }
   ],
   "source": [
    "plt.figure(figsize=(8,4))\n",
    "plt.plot(ma_100,'r')\n",
    "plt.plot(prices['Close'],'b')\n",
    "plt.ylabel(\"Price (in Rupees)\")\n",
    "plt.xlabel(\"Days\")\n",
    "plt.show()"
   ]
  },
  {
   "cell_type": "code",
   "execution_count": 13,
   "id": "b5b784c1",
   "metadata": {},
   "outputs": [],
   "source": [
    "#Calculating the moving average of 200 days\n",
    "ma_200= prices['Close'].rolling(200).mean()"
   ]
  },
  {
   "cell_type": "code",
   "execution_count": 14,
   "id": "3b9bc362",
   "metadata": {},
   "outputs": [
    {
     "data": {
      "image/png": "[encoded data removed]",
      "text/plain": [
       "<Figure size 800x400 with 1 Axes>"
      ]
     },
     "metadata": {},
     "output_type": "display_data"
    }
   ],
   "source": [
    "plt.figure(figsize=(8,4))\n",
    "plt.plot(ma_100,'b')\n",
    "plt.plot(ma_200,'r')\n",
    "plt.plot(prices['Close'],'g')\n",
    "plt.ylabel(\"Price (in Rupees)\")\n",
    "plt.xlabel(\"Days\")\n",
    "plt.show()"
   ]
  },
  {
   "cell_type": "markdown",
   "id": "5975d23d",
   "metadata": {},
   "source": [
    "### Splitting the dataset into training and testing"
   ]
  },
  {
   "cell_type": "code",
   "execution_count": 15,
   "id": "44971682",
   "metadata": {},
   "outputs": [],
   "source": [
    "#adding the first 80% of the data values into training set and the rest 20% into test set\n",
    "data_train = prices['Close'][0:int(len(prices)*0.80)]\n",
    "data_test = prices['Close'][int(len(prices)*0.80):len(prices)]"
   ]
  },
  {
   "cell_type": "code",
   "execution_count": 16,
   "id": "ccd927c0",
   "metadata": {},
   "outputs": [
    {
     "data": {
      "text/plain": [
       "0    132.433334\n",
       "1    133.566666\n",
       "2    133.033340\n",
       "3    133.199997\n",
       "4    134.733337\n",
       "Name: Close, dtype: float64"
      ]
     },
     "execution_count": 16,
     "metadata": {},
     "output_type": "execute_result"
    }
   ],
   "source": [
    "#viewing the first 5 values of the \n",
    "data_train.head()"
   ]
  },
  {
   "cell_type": "code",
   "execution_count": 17,
   "id": "ef25d99b",
   "metadata": {},
   "outputs": [
    {
     "data": {
      "text/plain": [
       "2164    165.699997\n",
       "2165    168.250000\n",
       "2166    167.449997\n",
       "2167    167.649994\n",
       "2168    168.550003\n",
       "Name: Close, dtype: float64"
      ]
     },
     "execution_count": 17,
     "metadata": {},
     "output_type": "execute_result"
    }
   ],
   "source": [
    "data_test.head()"
   ]
  },
  {
   "cell_type": "code",
   "execution_count": 18,
   "id": "00904f75",
   "metadata": {},
   "outputs": [
    {
     "name": "stdout",
     "output_type": "stream",
     "text": [
      "(2164,) (541,)\n"
     ]
    }
   ],
   "source": [
    "print(data_train.shape,data_test.shape)"
   ]
  },
  {
   "cell_type": "code",
   "execution_count": 19,
   "id": "81a0d372",
   "metadata": {},
   "outputs": [],
   "source": [
    "#scaling down the training and test set values to lie b/w 0 and 1\n",
    "scaler = MinMaxScaler(feature_range=(0,1))"
   ]
  },
  {
   "cell_type": "code",
   "execution_count": 20,
   "id": "9fbca186",
   "metadata": {},
   "outputs": [
    {
     "data": {
      "text/plain": [
       "array([[132.43333435],\n",
       "       [133.56666565],\n",
       "       [133.03334045],\n",
       "       ...,\n",
       "       [170.1499939 ],\n",
       "       [167.80000305],\n",
       "       [165.05000305]])"
      ]
     },
     "execution_count": 20,
     "metadata": {},
     "output_type": "execute_result"
    }
   ],
   "source": [
    "#reshaping the training dataset to form a 2d array\n",
    "data_train = np.array(data_train)\n",
    "data_train=data_train.reshape(-1,1)\n",
    "data_train"
   ]
  },
  {
   "cell_type": "code",
   "execution_count": 21,
   "id": "2e3ab7c8",
   "metadata": {},
   "outputs": [],
   "source": [
    "data_train_scale = scaler.fit_transform(data_train)"
   ]
  },
  {
   "cell_type": "code",
   "execution_count": 22,
   "id": "d6f3e21e",
   "metadata": {},
   "outputs": [
    {
     "data": {
      "text/plain": [
       "array([[0.        ],\n",
       "       [0.0053951 ],\n",
       "       [0.00285627],\n",
       "       ...,\n",
       "       [0.17954614],\n",
       "       [0.16835926],\n",
       "       [0.15526818]])"
      ]
     },
     "execution_count": 22,
     "metadata": {},
     "output_type": "execute_result"
    }
   ],
   "source": [
    "data_train_scale"
   ]
  },
  {
   "cell_type": "code",
   "execution_count": 23,
   "id": "70356065",
   "metadata": {},
   "outputs": [
    {
     "data": {
      "text/plain": [
       "array([[165.69999695],\n",
       "       [168.25      ],\n",
       "       [167.44999695],\n",
       "       [167.6499939 ],\n",
       "       [168.55000305],\n",
       "       [170.75      ],\n",
       "       [168.55000305],\n",
       "       [167.19999695],\n",
       "       [165.5       ],\n",
       "       [163.8500061 ]])"
      ]
     },
     "execution_count": 23,
     "metadata": {},
     "output_type": "execute_result"
    }
   ],
   "source": [
    "data_test = np.array(data_test)\n",
    "data_test = data_test.reshape(-1,1)\n",
    "data_test[:10]"
   ]
  },
  {
   "cell_type": "code",
   "execution_count": 24,
   "id": "aac148b2",
   "metadata": {},
   "outputs": [],
   "source": [
    "data_test_scale = scaler.fit_transform(data_test)"
   ]
  },
  {
   "cell_type": "code",
   "execution_count": 25,
   "id": "867b6cd5",
   "metadata": {
    "scrolled": true
   },
   "outputs": [
    {
     "data": {
      "text/plain": [
       "array([[0.00711198],\n",
       "       [0.014732  ],\n",
       "       [0.03175006],\n",
       "       [0.03022604],\n",
       "       [0.05537208],\n",
       "       [0.05130805],\n",
       "       [0.04546607],\n",
       "       [0.07366015],\n",
       "       [0.1089662 ],\n",
       "       [0.12268221]])"
      ]
     },
     "execution_count": 25,
     "metadata": {},
     "output_type": "execute_result"
    }
   ],
   "source": [
    "data_test_scale[10:20]"
   ]
  },
  {
   "cell_type": "markdown",
   "id": "7c10cc37",
   "metadata": {},
   "source": [
    "we take the data from past 100 days each time to predict the price of stock for the 101th day"
   ]
  },
  {
   "cell_type": "code",
   "execution_count": 26,
   "id": "41268b97",
   "metadata": {},
   "outputs": [],
   "source": [
    "x=[]\n",
    "y=[]\n",
    "for i in range(100,data_train_scale.shape[0]):\n",
    "    x.append(data_train_scale[i-100:i])\n",
    "    y.append(data_train_scale[i,0])"
   ]
  },
  {
   "cell_type": "code",
   "execution_count": 27,
   "id": "228df65a",
   "metadata": {},
   "outputs": [],
   "source": [
    "#converting the input features into numpy arrays\n",
    "x= np.array(x)\n",
    "y= np.array(y)"
   ]
  },
  {
   "cell_type": "markdown",
   "id": "2491053e",
   "metadata": {},
   "source": [
    "### Model Creation"
   ]
  },
  {
   "cell_type": "markdown",
   "id": "529a3856",
   "metadata": {},
   "source": [
    "A <b>Sequential</b> object can be used to group several layers of a neural network and group them together instead of individually creating every single layer and implementing it in the code."
   ]
  },
  {
   "cell_type": "code",
   "execution_count": 28,
   "id": "b9b3fe61",
   "metadata": {},
   "outputs": [],
   "source": [
    "#Creating a Sequential object\n",
    "model = Sequential()\n",
    "model.add(LSTM(units=50, activation='relu',return_sequences= True, input_shape=((x.shape[1],1))))\n",
    "model.add(Dropout(0.2))\n",
    "\n",
    "model.add(LSTM(units=60, activation='relu',return_sequences= True))\n",
    "model.add(Dropout(0.3))\n",
    "\n",
    "model.add(LSTM(units=80, activation='relu',return_sequences= True))\n",
    "model.add(Dropout(0.4))\n",
    "\n",
    "model.add(LSTM(units=120, activation='relu'))\n",
    "model.add(Dropout(0.5))\n",
    "\n",
    "model.add(Dense(units=1))"
   ]
  },
  {
   "cell_type": "code",
   "execution_count": 29,
   "id": "6d4c2e16",
   "metadata": {},
   "outputs": [],
   "source": [
    "model.compile(optimizer='adam', loss='mean_squared_error')"
   ]
  },
  {
   "cell_type": "code",
   "execution_count": 30,
   "id": "9e5f1f7b",
   "metadata": {
    "scrolled": false
   },
   "outputs": [
    {
     "name": "stdout",
     "output_type": "stream",
     "text": [
      "Epoch 1/50\n",
      "65/65 [==============================] - 13s 138ms/step - loss: 0.0479\n",
      "Epoch 2/50\n",
      "65/65 [==============================] - 9s 136ms/step - loss: 0.0117\n",
      "Epoch 3/50\n",
      "65/65 [==============================] - 9s 136ms/step - loss: 0.0101\n",
      "Epoch 4/50\n",
      "65/65 [==============================] - 9s 135ms/step - loss: 0.0091\n",
      "Epoch 5/50\n",
      "65/65 [==============================] - 9s 132ms/step - loss: 0.0093\n",
      "Epoch 6/50\n",
      "65/65 [==============================] - 9s 133ms/step - loss: 0.0084\n",
      "Epoch 7/50\n",
      "65/65 [==============================] - 9s 131ms/step - loss: 0.0080\n",
      "Epoch 8/50\n",
      "65/65 [==============================] - 9s 131ms/step - loss: 0.0080\n",
      "Epoch 9/50\n",
      "65/65 [==============================] - 8s 130ms/step - loss: 0.0070\n",
      "Epoch 10/50\n",
      "65/65 [==============================] - 9s 133ms/step - loss: 0.0060\n",
      "Epoch 11/50\n",
      "65/65 [==============================] - 9s 134ms/step - loss: 0.0064\n",
      "Epoch 12/50\n",
      "65/65 [==============================] - 9s 134ms/step - loss: 0.0057\n",
      "Epoch 13/50\n",
      "65/65 [==============================] - 9s 134ms/step - loss: 0.0058\n",
      "Epoch 14/50\n",
      "65/65 [==============================] - 9s 134ms/step - loss: 0.0054\n",
      "Epoch 15/50\n",
      "65/65 [==============================] - 9s 144ms/step - loss: 0.0055\n",
      "Epoch 16/50\n",
      "65/65 [==============================] - 9s 145ms/step - loss: 0.0052\n",
      "Epoch 17/50\n",
      "65/65 [==============================] - 9s 136ms/step - loss: 0.0050\n",
      "Epoch 18/50\n",
      "65/65 [==============================] - 9s 140ms/step - loss: 0.0052\n",
      "Epoch 19/50\n",
      "65/65 [==============================] - 9s 141ms/step - loss: 0.0043\n",
      "Epoch 20/50\n",
      "65/65 [==============================] - 9s 136ms/step - loss: 0.0044\n",
      "Epoch 21/50\n",
      "65/65 [==============================] - 9s 143ms/step - loss: 0.0042\n",
      "Epoch 22/50\n",
      "65/65 [==============================] - 9s 143ms/step - loss: 0.0039\n",
      "Epoch 23/50\n",
      "65/65 [==============================] - 9s 143ms/step - loss: 0.0044\n",
      "Epoch 24/50\n",
      "65/65 [==============================] - 9s 146ms/step - loss: 0.0038\n",
      "Epoch 25/50\n",
      "65/65 [==============================] - 9s 140ms/step - loss: 0.0037\n",
      "Epoch 26/50\n",
      "65/65 [==============================] - 9s 141ms/step - loss: 0.0036\n",
      "Epoch 27/50\n",
      "65/65 [==============================] - 9s 140ms/step - loss: 0.0036\n",
      "Epoch 28/50\n",
      "65/65 [==============================] - 9s 139ms/step - loss: 0.0033\n",
      "Epoch 29/50\n",
      "65/65 [==============================] - 9s 140ms/step - loss: 0.0032\n",
      "Epoch 30/50\n",
      "65/65 [==============================] - 9s 140ms/step - loss: 0.0032\n",
      "Epoch 31/50\n",
      "65/65 [==============================] - 9s 141ms/step - loss: 0.0030\n",
      "Epoch 32/50\n",
      "65/65 [==============================] - 9s 138ms/step - loss: 0.0030\n",
      "Epoch 33/50\n",
      "65/65 [==============================] - 9s 140ms/step - loss: 0.0031\n",
      "Epoch 34/50\n",
      "65/65 [==============================] - 9s 137ms/step - loss: 0.0028\n",
      "Epoch 35/50\n",
      "65/65 [==============================] - 9s 138ms/step - loss: 0.0027\n",
      "Epoch 36/50\n",
      "65/65 [==============================] - 9s 138ms/step - loss: 0.0027\n",
      "Epoch 37/50\n",
      "65/65 [==============================] - 9s 139ms/step - loss: 0.0028\n",
      "Epoch 38/50\n",
      "65/65 [==============================] - 9s 140ms/step - loss: 0.0027\n",
      "Epoch 39/50\n",
      "65/65 [==============================] - 9s 140ms/step - loss: 0.0026\n",
      "Epoch 40/50\n",
      "65/65 [==============================] - 9s 143ms/step - loss: 0.0025\n",
      "Epoch 41/50\n",
      "65/65 [==============================] - 9s 139ms/step - loss: 0.0025\n",
      "Epoch 42/50\n",
      "65/65 [==============================] - 9s 141ms/step - loss: 0.0024\n",
      "Epoch 43/50\n",
      "65/65 [==============================] - 9s 140ms/step - loss: 0.0025\n",
      "Epoch 44/50\n",
      "65/65 [==============================] - 10s 147ms/step - loss: 0.0024\n",
      "Epoch 45/50\n",
      "65/65 [==============================] - 9s 145ms/step - loss: 0.0023\n",
      "Epoch 46/50\n",
      "65/65 [==============================] - 9s 140ms/step - loss: 0.0022\n",
      "Epoch 47/50\n",
      "65/65 [==============================] - 9s 138ms/step - loss: 0.0022\n",
      "Epoch 48/50\n",
      "65/65 [==============================] - 9s 135ms/step - loss: 0.0022\n",
      "Epoch 49/50\n",
      "65/65 [==============================] - 9s 137ms/step - loss: 0.0021\n",
      "Epoch 50/50\n",
      "65/65 [==============================] - 9s 136ms/step - loss: 0.0022\n"
     ]
    },
    {
     "data": {
      "text/plain": [
       "<keras.src.callbacks.History at 0x1dfec09e5d0>"
      ]
     },
     "execution_count": 30,
     "metadata": {},
     "output_type": "execute_result"
    }
   ],
   "source": [
    "model.fit(x,y,epochs=50,batch_size=32, verbose=1)"
   ]
  },
  {
   "cell_type": "code",
   "execution_count": 31,
   "id": "352727e3",
   "metadata": {},
   "outputs": [
    {
     "name": "stdout",
     "output_type": "stream",
     "text": [
      "Model: \"sequential\"\n",
      "_________________________________________________________________\n",
      " Layer (type)                Output Shape              Param #   \n",
      "=================================================================\n",
      " lstm (LSTM)                 (None, 100, 50)           10400     \n",
      "                                                                 \n",
      " dropout (Dropout)           (None, 100, 50)           0         \n",
      "                                                                 \n",
      " lstm_1 (LSTM)               (None, 100, 60)           26640     \n",
      "                                                                 \n",
      " dropout_1 (Dropout)         (None, 100, 60)           0         \n",
      "                                                                 \n",
      " lstm_2 (LSTM)               (None, 100, 80)           45120     \n",
      "                                                                 \n",
      " dropout_2 (Dropout)         (None, 100, 80)           0         \n",
      "                                                                 \n",
      " lstm_3 (LSTM)               (None, 120)               96480     \n",
      "                                                                 \n",
      " dropout_3 (Dropout)         (None, 120)               0         \n",
      "                                                                 \n",
      " dense (Dense)               (None, 1)                 121       \n",
      "                                                                 \n",
      "=================================================================\n",
      "Total params: 178761 (698.29 KB)\n",
      "Trainable params: 178761 (698.29 KB)\n",
      "Non-trainable params: 0 (0.00 Byte)\n",
      "_________________________________________________________________\n"
     ]
    }
   ],
   "source": [
    "#model's summary\n",
    "model.summary()"
   ]
  },
  {
   "cell_type": "markdown",
   "id": "0e99929d",
   "metadata": {},
   "source": [
    "### Evaluation of model"
   ]
  },
  {
   "cell_type": "markdown",
   "id": "e7eb0df8",
   "metadata": {},
   "source": [
    "We predict the closing price of a stock for nth day using the data for the last n-100 days. So we need to add the last *100* rows from the training dataset into the test dataset to evaluate the values after that and so on and so forth"
   ]
  },
  {
   "cell_type": "code",
   "execution_count": 32,
   "id": "f4c1d202",
   "metadata": {
    "scrolled": true
   },
   "outputs": [],
   "source": [
    "#converting np array into pd dataframe and finding the last 100 rows\n",
    "last_100_days = (pd.DataFrame(data_train_scale)).tail(100)"
   ]
  },
  {
   "cell_type": "code",
   "execution_count": 33,
   "id": "42fdbb86",
   "metadata": {},
   "outputs": [],
   "source": [
    "#concatenating the 'last 100 days' rows with the data_test_scale dataset\n",
    "data_test_scale = pd.concat([last_100_days,pd.DataFrame(data_test_scale)],ignore_index=True)"
   ]
  },
  {
   "cell_type": "code",
   "execution_count": 34,
   "id": "8d38af9e",
   "metadata": {},
   "outputs": [
    {
     "data": {
      "text/plain": [
       "array([[0.27713421],\n",
       "       [0.30902891],\n",
       "       [0.32426215],\n",
       "       [0.30855284],\n",
       "       [0.30593461],\n",
       "       [0.32235795],\n",
       "       [0.32164392],\n",
       "       [0.31045697],\n",
       "       [0.31450333],\n",
       "       [0.31712156]])"
      ]
     },
     "execution_count": 34,
     "metadata": {},
     "output_type": "execute_result"
    }
   ],
   "source": [
    "data_test_scale= np.array(data_test_scale).reshape(-1,1)\n",
    "data_test_scale[:10]"
   ]
  },
  {
   "cell_type": "code",
   "execution_count": 35,
   "id": "2c39ca2f",
   "metadata": {},
   "outputs": [],
   "source": [
    "#appending the last 100 days data into a list to feed to the model\n",
    "x=[]\n",
    "y=[]\n",
    "for i in range(100,data_test_scale.shape[0]):\n",
    "    x.append(data_test_scale[i-100:i])\n",
    "    y.append(data_test_scale[i,0])"
   ]
  },
  {
   "cell_type": "code",
   "execution_count": 36,
   "id": "d7a431bd",
   "metadata": {},
   "outputs": [],
   "source": [
    "# converting the lists into numpy arrays\n",
    "x= np.array(x)\n",
    "y= np.array(y)"
   ]
  },
  {
   "cell_type": "code",
   "execution_count": 37,
   "id": "2bed18c3",
   "metadata": {},
   "outputs": [
    {
     "name": "stdout",
     "output_type": "stream",
     "text": [
      "17/17 [==============================] - 1s 46ms/step\n"
     ]
    }
   ],
   "source": [
    "#feeding the data into the model to make predictions\n",
    "y_predicted = model.predict(x)"
   ]
  },
  {
   "cell_type": "code",
   "execution_count": 38,
   "id": "341664fb",
   "metadata": {},
   "outputs": [
    {
     "data": {
      "text/plain": [
       "array([[0.16908023],\n",
       "       [0.16244355],\n",
       "       [0.14858626],\n",
       "       [0.129011  ],\n",
       "       [0.10808507],\n",
       "       [0.09054276],\n",
       "       [0.07957515],\n",
       "       [0.07522371],\n",
       "       [0.0753558 ],\n",
       "       [0.07729244]], dtype=float32)"
      ]
     },
     "execution_count": 38,
     "metadata": {},
     "output_type": "execute_result"
    }
   ],
   "source": [
    "#printing the first 10 predictions\n",
    "y_predicted[:10]"
   ]
  },
  {
   "cell_type": "code",
   "execution_count": 39,
   "id": "96a1e6d5",
   "metadata": {},
   "outputs": [],
   "source": [
    "#converting the predicted values back to the original prices\n",
    "y_predicted=y_predicted*(1/scaler.scale_)"
   ]
  },
  {
   "cell_type": "code",
   "execution_count": 40,
   "id": "cb42ecdd",
   "metadata": {},
   "outputs": [
    {
     "data": {
      "text/plain": [
       "array([[33.28344384],\n",
       "       [31.9770135 ],\n",
       "       [29.24920585],\n",
       "       [25.39581715],\n",
       "       [21.27654592],\n",
       "       [17.82334354],\n",
       "       [15.664369  ],\n",
       "       [14.80778858],\n",
       "       [14.8337893 ],\n",
       "       [15.21501774]])"
      ]
     },
     "execution_count": 40,
     "metadata": {},
     "output_type": "execute_result"
    }
   ],
   "source": [
    "#printing the first 10 predicted values\n",
    "y_predicted[:10]"
   ]
  },
  {
   "cell_type": "code",
   "execution_count": 41,
   "id": "e09073c7",
   "metadata": {},
   "outputs": [],
   "source": [
    "#converting back the actual values\n",
    "y = y*(1/scaler.scale_)"
   ]
  },
  {
   "cell_type": "code",
   "execution_count": 42,
   "id": "5e7f73e6",
   "metadata": {},
   "outputs": [
    {
     "data": {
      "image/png": "[encoded data removed]",
      "text/plain": [
       "<Figure size 1000x800 with 1 Axes>"
      ]
     },
     "metadata": {},
     "output_type": "display_data"
    }
   ],
   "source": [
    "#plotting the predicted and actual values to see how good the model is\n",
    "plt.figure(figsize=(10,8))\n",
    "plt.plot(y_predicted,'r',label='predicted price')\n",
    "plt.plot(y,'g',label = 'Original Price')\n",
    "plt.xlabel(\"time\")\n",
    "plt.ylabel(\"price\")\n",
    "plt.legend()\n",
    "plt.show()"
   ]
  },
  {
   "cell_type": "code",
   "execution_count": 45,
   "id": "30acdbcf",
   "metadata": {},
   "outputs": [],
   "source": [
    "filename = 'Model.pkl'\n",
    "pickle.dump(model,open(filename,'wb'))"
   ]
  },
  {
   "cell_type": "code",
   "execution_count": 44,
   "id": "902f9bdb",
   "metadata": {},
   "outputs": [
    {
     "name": "stdout",
     "output_type": "stream",
     "text": [
      "Model: \"sequential\"\n",
      "_________________________________________________________________\n",
      " Layer (type)                Output Shape              Param #   \n",
      "=================================================================\n",
      " lstm (LSTM)                 (None, 100, 50)           10400     \n",
      "                                                                 \n",
      " dropout (Dropout)           (None, 100, 50)           0         \n",
      "                                                                 \n",
      " lstm_1 (LSTM)               (None, 100, 60)           26640     \n",
      "                                                                 \n",
      " dropout_1 (Dropout)         (None, 100, 60)           0         \n",
      "                                                                 \n",
      " lstm_2 (LSTM)               (None, 100, 80)           45120     \n",
      "                                                                 \n",
      " dropout_2 (Dropout)         (None, 100, 80)           0         \n",
      "                                                                 \n",
      " lstm_3 (LSTM)               (None, 120)               96480     \n",
      "                                                                 \n",
      " dropout_3 (Dropout)         (None, 120)               0         \n",
      "                                                                 \n",
      " dense (Dense)               (None, 1)                 121       \n",
      "                                                                 \n",
      "=================================================================\n",
      "Total params: 178761 (698.29 KB)\n",
      "Trainable params: 178761 (698.29 KB)\n",
      "Non-trainable params: 0 (0.00 Byte)\n",
      "_________________________________________________________________\n"
     ]
    }
   ],
   "source": []
  },
  {
   "cell_type": "code",
   "execution_count": null,
   "id": "71f44876",
   "metadata": {},
   "outputs": [],
   "source": []
  },
  {
   "cell_type": "code",
   "execution_count": null,
   "id": "ef913a65",
   "metadata": {},
   "outputs": [],
   "source": []
  },
  {
   "cell_type": "code",
   "execution_count": null,
   "id": "267dde5a",
   "metadata": {},
   "outputs": [],
   "source": []
  },
  {
   "cell_type": "code",
   "execution_count": null,
   "id": "db9e2650",
   "metadata": {},
   "outputs": [],
   "source": []
  },
  {
   "cell_type": "code",
   "execution_count": null,
   "id": "9e7591b0",
   "metadata": {},
   "outputs": [],
   "source": []
  },
  {
   "cell_type": "markdown",
   "id": "5c1d3bfd",
   "metadata": {},
   "source": []
  }
 ],
 "metadata": {
  "kernelspec": {
   "display_name": "Python 3 (ipykernel)",
   "language": "python",
   "name": "python3"
  },
  "language_info": {
   "codemirror_mode": {
    "name": "ipython",
    "version": 3
   },
   "file_extension": ".py",
   "mimetype": "text/x-python",
   "name": "python",
   "nbconvert_exporter": "python",
   "pygments_lexer": "ipython3",
   "version": "3.11.3"
  }
 },
 "nbformat": 4,
 "nbformat_minor": 5
}
